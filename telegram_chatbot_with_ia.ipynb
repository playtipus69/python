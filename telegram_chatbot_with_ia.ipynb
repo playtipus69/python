{
  "nbformat": 4,
  "nbformat_minor": 0,
  "metadata": {
    "colab": {
      "provenance": [],
      "include_colab_link": true
    },
    "kernelspec": {
      "name": "python3",
      "display_name": "Python 3"
    },
    "language_info": {
      "name": "python"
    }
  },
  "cells": [
    {
      "cell_type": "markdown",
      "metadata": {
        "id": "view-in-github",
        "colab_type": "text"
      },
      "source": [
        "<a href=\"https://colab.research.google.com/github/playtipus69/python/blob/main/telegram_chatbot_with_ia.ipynb\" target=\"_parent\"><img src=\"https://colab.research.google.com/assets/colab-badge.svg\" alt=\"Open In Colab\"/></a>"
      ]
    },
    {
      "cell_type": "markdown",
      "source": [
        "# Instalação de Bibliotecas\n"
      ],
      "metadata": {
        "id": "KQwhLhgS2uX1"
      }
    },
    {
      "cell_type": "code",
      "source": [
        "!pip install pytelegrambotapi\n",
        "!pip install unidecode"
      ],
      "metadata": {
        "id": "F9R9EoToGg35",
        "colab": {
          "base_uri": "https://localhost:8080/"
        },
        "outputId": "95be1633-963d-4bf2-e570-245601e2913f"
      },
      "execution_count": 53,
      "outputs": [
        {
          "output_type": "stream",
          "name": "stdout",
          "text": [
            "Requirement already satisfied: pytelegrambotapi in /usr/local/lib/python3.11/dist-packages (4.26.0)\n",
            "Requirement already satisfied: requests in /usr/local/lib/python3.11/dist-packages (from pytelegrambotapi) (2.32.3)\n",
            "Requirement already satisfied: charset-normalizer<4,>=2 in /usr/local/lib/python3.11/dist-packages (from requests->pytelegrambotapi) (3.4.1)\n",
            "Requirement already satisfied: idna<4,>=2.5 in /usr/local/lib/python3.11/dist-packages (from requests->pytelegrambotapi) (3.10)\n",
            "Requirement already satisfied: urllib3<3,>=1.21.1 in /usr/local/lib/python3.11/dist-packages (from requests->pytelegrambotapi) (2.3.0)\n",
            "Requirement already satisfied: certifi>=2017.4.17 in /usr/local/lib/python3.11/dist-packages (from requests->pytelegrambotapi) (2025.1.31)\n",
            "Requirement already satisfied: unidecode in /usr/local/lib/python3.11/dist-packages (1.3.8)\n"
          ]
        }
      ]
    },
    {
      "cell_type": "markdown",
      "source": [
        "# Lendo nosso dataset"
      ],
      "metadata": {
        "id": "uNN4jCSEuIwb"
      }
    },
    {
      "cell_type": "markdown",
      "source": [
        "## Pandas\n",
        "\n",
        "\n",
        "A biblioteca pandas é uma poderosa biblioteca em Python amplamente utilizada para análise de dados e manipulação de estruturas de dados tabulares, como DataFrames. Ela oferece funcionalidades para carregar, limpar, transformar, analisar e visualizar dados de maneira eficiente."
      ],
      "metadata": {
        "id": "8AD0m3XC1lKg"
      }
    },
    {
      "cell_type": "code",
      "execution_count": 54,
      "metadata": {
        "id": "humvcBit866v"
      },
      "outputs": [],
      "source": [
        "import pandas as pd"
      ]
    },
    {
      "cell_type": "code",
      "source": [
        "dataset = pd.read_csv('https://raw.githubusercontent.com/tmelo-uea/cursos/main/dataset.csv', delimiter=';')"
      ],
      "metadata": {
        "id": "vZCv-bT9A06U"
      },
      "execution_count": 55,
      "outputs": []
    },
    {
      "cell_type": "code",
      "source": [
        "dataset.head(n=99)"
      ],
      "metadata": {
        "id": "S4Usks_F9s6S",
        "colab": {
          "base_uri": "https://localhost:8080/",
          "height": 423
        },
        "outputId": "8e95dbd8-2076-483b-bdda-3811db604b2e"
      },
      "execution_count": 56,
      "outputs": [
        {
          "output_type": "execute_result",
          "data": {
            "text/plain": [
              "                                             Pergunta  \\\n",
              "0                                            Bom dia!   \n",
              "1                                          Boa tarde!   \n",
              "2                                          Boa noite!   \n",
              "3                                                 Oi!   \n",
              "4                                      Olá, viajante!   \n",
              "..                                                ...   \n",
              "94  Onde posso fazer rapel na Chapada dos Veadeiro...   \n",
              "95  Quais são as atrações de ecoturismo em Jalapão...   \n",
              "96  O que fazer em São Miguel dos Milagres, Alagoa...   \n",
              "97  Quais são as atrações culturais em São Luís, M...   \n",
              "98  Onde posso aprender sobre a cultura caiçara em...   \n",
              "\n",
              "                                             Resposta  \n",
              "0               Bom dia! Como posso ajudar você hoje?  \n",
              "1   Boa tarde! Estou à disposição para responder à...  \n",
              "2                   Boa noite! Em que posso ser útil?  \n",
              "3                    Olá! Como posso ser útil a você?  \n",
              "4   Olá! Estou aqui para fornecer informações sobr...  \n",
              "..                                                ...  \n",
              "94  A Chapada dos Veadeiros oferece oportunidades ...  \n",
              "95  Jalapão é perfeito para ecoturismo. Faça trilh...  \n",
              "96  São Miguel dos Milagres é um refúgio tranquilo...  \n",
              "97  São Luís tem um centro histórico preservado, c...  \n",
              "98  Em Ubatuba, você pode visitar a Aldeia Renasce...  \n",
              "\n",
              "[99 rows x 2 columns]"
            ],
            "text/html": [
              "\n",
              "  <div id=\"df-5549d9e8-d268-4348-bc01-f544530ed18b\" class=\"colab-df-container\">\n",
              "    <div>\n",
              "<style scoped>\n",
              "    .dataframe tbody tr th:only-of-type {\n",
              "        vertical-align: middle;\n",
              "    }\n",
              "\n",
              "    .dataframe tbody tr th {\n",
              "        vertical-align: top;\n",
              "    }\n",
              "\n",
              "    .dataframe thead th {\n",
              "        text-align: right;\n",
              "    }\n",
              "</style>\n",
              "<table border=\"1\" class=\"dataframe\">\n",
              "  <thead>\n",
              "    <tr style=\"text-align: right;\">\n",
              "      <th></th>\n",
              "      <th>Pergunta</th>\n",
              "      <th>Resposta</th>\n",
              "    </tr>\n",
              "  </thead>\n",
              "  <tbody>\n",
              "    <tr>\n",
              "      <th>0</th>\n",
              "      <td>Bom dia!</td>\n",
              "      <td>Bom dia! Como posso ajudar você hoje?</td>\n",
              "    </tr>\n",
              "    <tr>\n",
              "      <th>1</th>\n",
              "      <td>Boa tarde!</td>\n",
              "      <td>Boa tarde! Estou à disposição para responder à...</td>\n",
              "    </tr>\n",
              "    <tr>\n",
              "      <th>2</th>\n",
              "      <td>Boa noite!</td>\n",
              "      <td>Boa noite! Em que posso ser útil?</td>\n",
              "    </tr>\n",
              "    <tr>\n",
              "      <th>3</th>\n",
              "      <td>Oi!</td>\n",
              "      <td>Olá! Como posso ser útil a você?</td>\n",
              "    </tr>\n",
              "    <tr>\n",
              "      <th>4</th>\n",
              "      <td>Olá, viajante!</td>\n",
              "      <td>Olá! Estou aqui para fornecer informações sobr...</td>\n",
              "    </tr>\n",
              "    <tr>\n",
              "      <th>...</th>\n",
              "      <td>...</td>\n",
              "      <td>...</td>\n",
              "    </tr>\n",
              "    <tr>\n",
              "      <th>94</th>\n",
              "      <td>Onde posso fazer rapel na Chapada dos Veadeiro...</td>\n",
              "      <td>A Chapada dos Veadeiros oferece oportunidades ...</td>\n",
              "    </tr>\n",
              "    <tr>\n",
              "      <th>95</th>\n",
              "      <td>Quais são as atrações de ecoturismo em Jalapão...</td>\n",
              "      <td>Jalapão é perfeito para ecoturismo. Faça trilh...</td>\n",
              "    </tr>\n",
              "    <tr>\n",
              "      <th>96</th>\n",
              "      <td>O que fazer em São Miguel dos Milagres, Alagoa...</td>\n",
              "      <td>São Miguel dos Milagres é um refúgio tranquilo...</td>\n",
              "    </tr>\n",
              "    <tr>\n",
              "      <th>97</th>\n",
              "      <td>Quais são as atrações culturais em São Luís, M...</td>\n",
              "      <td>São Luís tem um centro histórico preservado, c...</td>\n",
              "    </tr>\n",
              "    <tr>\n",
              "      <th>98</th>\n",
              "      <td>Onde posso aprender sobre a cultura caiçara em...</td>\n",
              "      <td>Em Ubatuba, você pode visitar a Aldeia Renasce...</td>\n",
              "    </tr>\n",
              "  </tbody>\n",
              "</table>\n",
              "<p>99 rows × 2 columns</p>\n",
              "</div>\n",
              "    <div class=\"colab-df-buttons\">\n",
              "\n",
              "  <div class=\"colab-df-container\">\n",
              "    <button class=\"colab-df-convert\" onclick=\"convertToInteractive('df-5549d9e8-d268-4348-bc01-f544530ed18b')\"\n",
              "            title=\"Convert this dataframe to an interactive table.\"\n",
              "            style=\"display:none;\">\n",
              "\n",
              "  <svg xmlns=\"http://www.w3.org/2000/svg\" height=\"24px\" viewBox=\"0 -960 960 960\">\n",
              "    <path d=\"M120-120v-720h720v720H120Zm60-500h600v-160H180v160Zm220 220h160v-160H400v160Zm0 220h160v-160H400v160ZM180-400h160v-160H180v160Zm440 0h160v-160H620v160ZM180-180h160v-160H180v160Zm440 0h160v-160H620v160Z\"/>\n",
              "  </svg>\n",
              "    </button>\n",
              "\n",
              "  <style>\n",
              "    .colab-df-container {\n",
              "      display:flex;\n",
              "      gap: 12px;\n",
              "    }\n",
              "\n",
              "    .colab-df-convert {\n",
              "      background-color: #E8F0FE;\n",
              "      border: none;\n",
              "      border-radius: 50%;\n",
              "      cursor: pointer;\n",
              "      display: none;\n",
              "      fill: #1967D2;\n",
              "      height: 32px;\n",
              "      padding: 0 0 0 0;\n",
              "      width: 32px;\n",
              "    }\n",
              "\n",
              "    .colab-df-convert:hover {\n",
              "      background-color: #E2EBFA;\n",
              "      box-shadow: 0px 1px 2px rgba(60, 64, 67, 0.3), 0px 1px 3px 1px rgba(60, 64, 67, 0.15);\n",
              "      fill: #174EA6;\n",
              "    }\n",
              "\n",
              "    .colab-df-buttons div {\n",
              "      margin-bottom: 4px;\n",
              "    }\n",
              "\n",
              "    [theme=dark] .colab-df-convert {\n",
              "      background-color: #3B4455;\n",
              "      fill: #D2E3FC;\n",
              "    }\n",
              "\n",
              "    [theme=dark] .colab-df-convert:hover {\n",
              "      background-color: #434B5C;\n",
              "      box-shadow: 0px 1px 3px 1px rgba(0, 0, 0, 0.15);\n",
              "      filter: drop-shadow(0px 1px 2px rgba(0, 0, 0, 0.3));\n",
              "      fill: #FFFFFF;\n",
              "    }\n",
              "  </style>\n",
              "\n",
              "    <script>\n",
              "      const buttonEl =\n",
              "        document.querySelector('#df-5549d9e8-d268-4348-bc01-f544530ed18b button.colab-df-convert');\n",
              "      buttonEl.style.display =\n",
              "        google.colab.kernel.accessAllowed ? 'block' : 'none';\n",
              "\n",
              "      async function convertToInteractive(key) {\n",
              "        const element = document.querySelector('#df-5549d9e8-d268-4348-bc01-f544530ed18b');\n",
              "        const dataTable =\n",
              "          await google.colab.kernel.invokeFunction('convertToInteractive',\n",
              "                                                    [key], {});\n",
              "        if (!dataTable) return;\n",
              "\n",
              "        const docLinkHtml = 'Like what you see? Visit the ' +\n",
              "          '<a target=\"_blank\" href=https://colab.research.google.com/notebooks/data_table.ipynb>data table notebook</a>'\n",
              "          + ' to learn more about interactive tables.';\n",
              "        element.innerHTML = '';\n",
              "        dataTable['output_type'] = 'display_data';\n",
              "        await google.colab.output.renderOutput(dataTable, element);\n",
              "        const docLink = document.createElement('div');\n",
              "        docLink.innerHTML = docLinkHtml;\n",
              "        element.appendChild(docLink);\n",
              "      }\n",
              "    </script>\n",
              "  </div>\n",
              "\n",
              "\n",
              "<div id=\"df-a8af1361-002f-49d7-afbc-adcbc8741eb1\">\n",
              "  <button class=\"colab-df-quickchart\" onclick=\"quickchart('df-a8af1361-002f-49d7-afbc-adcbc8741eb1')\"\n",
              "            title=\"Suggest charts\"\n",
              "            style=\"display:none;\">\n",
              "\n",
              "<svg xmlns=\"http://www.w3.org/2000/svg\" height=\"24px\"viewBox=\"0 0 24 24\"\n",
              "     width=\"24px\">\n",
              "    <g>\n",
              "        <path d=\"M19 3H5c-1.1 0-2 .9-2 2v14c0 1.1.9 2 2 2h14c1.1 0 2-.9 2-2V5c0-1.1-.9-2-2-2zM9 17H7v-7h2v7zm4 0h-2V7h2v10zm4 0h-2v-4h2v4z\"/>\n",
              "    </g>\n",
              "</svg>\n",
              "  </button>\n",
              "\n",
              "<style>\n",
              "  .colab-df-quickchart {\n",
              "      --bg-color: #E8F0FE;\n",
              "      --fill-color: #1967D2;\n",
              "      --hover-bg-color: #E2EBFA;\n",
              "      --hover-fill-color: #174EA6;\n",
              "      --disabled-fill-color: #AAA;\n",
              "      --disabled-bg-color: #DDD;\n",
              "  }\n",
              "\n",
              "  [theme=dark] .colab-df-quickchart {\n",
              "      --bg-color: #3B4455;\n",
              "      --fill-color: #D2E3FC;\n",
              "      --hover-bg-color: #434B5C;\n",
              "      --hover-fill-color: #FFFFFF;\n",
              "      --disabled-bg-color: #3B4455;\n",
              "      --disabled-fill-color: #666;\n",
              "  }\n",
              "\n",
              "  .colab-df-quickchart {\n",
              "    background-color: var(--bg-color);\n",
              "    border: none;\n",
              "    border-radius: 50%;\n",
              "    cursor: pointer;\n",
              "    display: none;\n",
              "    fill: var(--fill-color);\n",
              "    height: 32px;\n",
              "    padding: 0;\n",
              "    width: 32px;\n",
              "  }\n",
              "\n",
              "  .colab-df-quickchart:hover {\n",
              "    background-color: var(--hover-bg-color);\n",
              "    box-shadow: 0 1px 2px rgba(60, 64, 67, 0.3), 0 1px 3px 1px rgba(60, 64, 67, 0.15);\n",
              "    fill: var(--button-hover-fill-color);\n",
              "  }\n",
              "\n",
              "  .colab-df-quickchart-complete:disabled,\n",
              "  .colab-df-quickchart-complete:disabled:hover {\n",
              "    background-color: var(--disabled-bg-color);\n",
              "    fill: var(--disabled-fill-color);\n",
              "    box-shadow: none;\n",
              "  }\n",
              "\n",
              "  .colab-df-spinner {\n",
              "    border: 2px solid var(--fill-color);\n",
              "    border-color: transparent;\n",
              "    border-bottom-color: var(--fill-color);\n",
              "    animation:\n",
              "      spin 1s steps(1) infinite;\n",
              "  }\n",
              "\n",
              "  @keyframes spin {\n",
              "    0% {\n",
              "      border-color: transparent;\n",
              "      border-bottom-color: var(--fill-color);\n",
              "      border-left-color: var(--fill-color);\n",
              "    }\n",
              "    20% {\n",
              "      border-color: transparent;\n",
              "      border-left-color: var(--fill-color);\n",
              "      border-top-color: var(--fill-color);\n",
              "    }\n",
              "    30% {\n",
              "      border-color: transparent;\n",
              "      border-left-color: var(--fill-color);\n",
              "      border-top-color: var(--fill-color);\n",
              "      border-right-color: var(--fill-color);\n",
              "    }\n",
              "    40% {\n",
              "      border-color: transparent;\n",
              "      border-right-color: var(--fill-color);\n",
              "      border-top-color: var(--fill-color);\n",
              "    }\n",
              "    60% {\n",
              "      border-color: transparent;\n",
              "      border-right-color: var(--fill-color);\n",
              "    }\n",
              "    80% {\n",
              "      border-color: transparent;\n",
              "      border-right-color: var(--fill-color);\n",
              "      border-bottom-color: var(--fill-color);\n",
              "    }\n",
              "    90% {\n",
              "      border-color: transparent;\n",
              "      border-bottom-color: var(--fill-color);\n",
              "    }\n",
              "  }\n",
              "</style>\n",
              "\n",
              "  <script>\n",
              "    async function quickchart(key) {\n",
              "      const quickchartButtonEl =\n",
              "        document.querySelector('#' + key + ' button');\n",
              "      quickchartButtonEl.disabled = true;  // To prevent multiple clicks.\n",
              "      quickchartButtonEl.classList.add('colab-df-spinner');\n",
              "      try {\n",
              "        const charts = await google.colab.kernel.invokeFunction(\n",
              "            'suggestCharts', [key], {});\n",
              "      } catch (error) {\n",
              "        console.error('Error during call to suggestCharts:', error);\n",
              "      }\n",
              "      quickchartButtonEl.classList.remove('colab-df-spinner');\n",
              "      quickchartButtonEl.classList.add('colab-df-quickchart-complete');\n",
              "    }\n",
              "    (() => {\n",
              "      let quickchartButtonEl =\n",
              "        document.querySelector('#df-a8af1361-002f-49d7-afbc-adcbc8741eb1 button');\n",
              "      quickchartButtonEl.style.display =\n",
              "        google.colab.kernel.accessAllowed ? 'block' : 'none';\n",
              "    })();\n",
              "  </script>\n",
              "</div>\n",
              "\n",
              "    </div>\n",
              "  </div>\n"
            ],
            "application/vnd.google.colaboratory.intrinsic+json": {
              "type": "dataframe",
              "variable_name": "dataset",
              "summary": "{\n  \"name\": \"dataset\",\n  \"rows\": 319,\n  \"fields\": [\n    {\n      \"column\": \"Pergunta\",\n      \"properties\": {\n        \"dtype\": \"string\",\n        \"num_unique_values\": 308,\n        \"samples\": [\n          \"Voc\\u00ea tem alguma recomenda\\u00e7\\u00e3o de aplicativos \\u00fateis para viagem?\",\n          \"Que tipo de informa\\u00e7\\u00f5es voc\\u00ea pode fornecer?\",\n          \"O que fazer em Bonito, \\u00e0 noite?\"\n        ],\n        \"semantic_type\": \"\",\n        \"description\": \"\"\n      }\n    },\n    {\n      \"column\": \"Resposta\",\n      \"properties\": {\n        \"dtype\": \"string\",\n        \"num_unique_values\": 318,\n        \"samples\": [\n          \"No ver\\u00e3o em Natal, aproveite as praias de \\u00e1guas cristalinas, como Ponta Negra, e fa\\u00e7a um passeio de buggy pelas dunas de Genipabu.\",\n          \"Ouro Preto \\u00e9 famosa por sua arquitetura colonial e hist\\u00f3ria rica. Visite igrejas hist\\u00f3ricas, como a Igreja de S\\u00e3o Francisco de Assis, e explore suas ruas de paralelep\\u00edpedos.\",\n          \"A melhor \\u00e9poca para visitar o Brasil varia de acordo com a regi\\u00e3o. Geralmente, o per\\u00edodo de dezembro a mar\\u00e7o \\u00e9 \\u00f3timo para praias, enquanto a temporada seca na Amaz\\u00f4nia ocorre de junho a setembro.\"\n        ],\n        \"semantic_type\": \"\",\n        \"description\": \"\"\n      }\n    }\n  ]\n}"
            }
          },
          "metadata": {},
          "execution_count": 56
        }
      ]
    },
    {
      "cell_type": "markdown",
      "source": [
        "# Bibliotecas para tratar strings\n",
        "\n"
      ],
      "metadata": {
        "id": "QY54VAeOtSNg"
      }
    },
    {
      "cell_type": "code",
      "source": [
        "import string"
      ],
      "metadata": {
        "id": "2xB8z69dtRWC"
      },
      "execution_count": 57,
      "outputs": []
    },
    {
      "cell_type": "markdown",
      "source": [
        "# Bibliotecas de NLP"
      ],
      "metadata": {
        "id": "TSt6gitVtaBW"
      }
    },
    {
      "cell_type": "markdown",
      "source": [
        "## NLTK\n",
        "O Natural Language Toolkit (NLTK) é uma biblioteca em Python amplamente utilizada para processamento de linguagem natural (NLP). Ela oferece uma gama de ferramentas que tornam mais fácil a realização de análises textuais e tarefas de NLP, bem como a construção de sistemas de processamento de linguagem natural."
      ],
      "metadata": {
        "id": "v1Oa9wPu1Xis"
      }
    },
    {
      "cell_type": "code",
      "source": [
        "import nltk\n",
        "from nltk.corpus import stopwords\n",
        "from nltk.tokenize import word_tokenize\n",
        "\n",
        "nltk.download('stopwords')\n",
        "nltk.download('punkt_tab')"
      ],
      "metadata": {
        "id": "wlvcJXPYt6vo",
        "colab": {
          "base_uri": "https://localhost:8080/"
        },
        "outputId": "e32a10c7-7845-405c-ae75-6c6d64ea4c57"
      },
      "execution_count": 58,
      "outputs": [
        {
          "output_type": "stream",
          "name": "stderr",
          "text": [
            "[nltk_data] Downloading package stopwords to /root/nltk_data...\n",
            "[nltk_data]   Package stopwords is already up-to-date!\n",
            "[nltk_data] Downloading package punkt_tab to /root/nltk_data...\n",
            "[nltk_data]   Package punkt_tab is already up-to-date!\n"
          ]
        },
        {
          "output_type": "execute_result",
          "data": {
            "text/plain": [
              "True"
            ]
          },
          "metadata": {},
          "execution_count": 58
        }
      ]
    },
    {
      "cell_type": "markdown",
      "source": [
        "# Biblioteca para remoção de acentuação"
      ],
      "metadata": {
        "id": "ry1OL9eDtks2"
      }
    },
    {
      "cell_type": "code",
      "source": [
        "from unidecode import unidecode"
      ],
      "metadata": {
        "id": "quJkLF12tv7I"
      },
      "execution_count": 59,
      "outputs": []
    },
    {
      "cell_type": "markdown",
      "source": [
        "# Pré processamento de texto"
      ],
      "metadata": {
        "id": "Y99A0hNkyyRc"
      }
    },
    {
      "cell_type": "code",
      "source": [
        "def remove_pontuacao(text):\n",
        "    texto_limpo = ''\n",
        "    for palavra in text:\n",
        "      if palavra not in string.punctuation:\n",
        "        texto_limpo += palavra\n",
        "\n",
        "    return texto_limpo"
      ],
      "metadata": {
        "id": "7PcRsPShw-vc"
      },
      "execution_count": 60,
      "outputs": []
    },
    {
      "cell_type": "code",
      "source": [
        "print(string.punctuation)"
      ],
      "metadata": {
        "id": "jYoqpw4Oynxc",
        "colab": {
          "base_uri": "https://localhost:8080/"
        },
        "outputId": "3f172633-f9d9-4fe7-a1c1-88fb4a6d3323"
      },
      "execution_count": 61,
      "outputs": [
        {
          "output_type": "stream",
          "name": "stdout",
          "text": [
            "!\"#$%&'()*+,-./:;<=>?@[\\]^_`{|}~\n"
          ]
        }
      ]
    },
    {
      "cell_type": "code",
      "source": [
        "def preprocessamento(texto):\n",
        "    # Remove pontuações e símbolos\n",
        "    texto = remove_pontuacao(texto)\n",
        "\n",
        "    # Remover acentos\n",
        "    texto = unidecode(texto)\n",
        "\n",
        "    # Converte para minúsculo\n",
        "    texto = texto.lower()\n",
        "\n",
        "    # Tokenização\n",
        "    tokens = word_tokenize(texto)\n",
        "\n",
        "    # Remover stopwords\n",
        "    stop_words = stopwords.words('portuguese')\n",
        "    tokens = [token for token in tokens if token not in stop_words]\n",
        "\n",
        "    # Juntar as palavras novamente em uma string\n",
        "    texto_preprocessado = ' '.join(tokens)\n",
        "\n",
        "    return texto_preprocessado"
      ],
      "metadata": {
        "id": "aPkjAg359-Sm"
      },
      "execution_count": 62,
      "outputs": []
    },
    {
      "cell_type": "code",
      "source": [
        "dataset[\"Pergunta_Preprocessada\"] = dataset[\"Pergunta\"].apply(preprocessamento)"
      ],
      "metadata": {
        "id": "cZrQsVkA-Lum"
      },
      "execution_count": 63,
      "outputs": []
    },
    {
      "cell_type": "code",
      "source": [
        "dataset.head(n=1000)"
      ],
      "metadata": {
        "id": "Qk9JZNflDb5l",
        "colab": {
          "base_uri": "https://localhost:8080/",
          "height": 423
        },
        "outputId": "65a9e2ba-21b8-4d4a-8ecc-455dede8a19a"
      },
      "execution_count": 64,
      "outputs": [
        {
          "output_type": "execute_result",
          "data": {
            "text/plain": [
              "                                              Pergunta  \\\n",
              "0                                             Bom dia!   \n",
              "1                                           Boa tarde!   \n",
              "2                                           Boa noite!   \n",
              "3                                                  Oi!   \n",
              "4                                       Olá, viajante!   \n",
              "..                                                 ...   \n",
              "314      Como é a culinária típica do estado da Bahia?   \n",
              "315     O que fazer na região dos Lençóis Maranhenses?   \n",
              "316  Quais são as atrações naturais imperdíveis no ...   \n",
              "317       Como é o transporte entre cidades no Brasil?   \n",
              "318  Quais são os festivais de música mais famosos ...   \n",
              "\n",
              "                                              Resposta  \\\n",
              "0                Bom dia! Como posso ajudar você hoje?   \n",
              "1    Boa tarde! Estou à disposição para responder à...   \n",
              "2                    Boa noite! Em que posso ser útil?   \n",
              "3                     Olá! Como posso ser útil a você?   \n",
              "4    Olá! Estou aqui para fornecer informações sobr...   \n",
              "..                                                 ...   \n",
              "314  A culinária da Bahia é conhecida por seus sabo...   \n",
              "315  Os Lençóis Maranhenses são famosos por suas du...   \n",
              "316  Além dos Lençóis Maranhenses, visite o Monte R...   \n",
              "317  Você pode viajar entre cidades brasileiras de ...   \n",
              "318  Além do Carnaval, o Brasil tem festivais de mú...   \n",
              "\n",
              "                             Pergunta_Preprocessada  \n",
              "0                                           bom dia  \n",
              "1                                         boa tarde  \n",
              "2                                         boa noite  \n",
              "3                                                oi  \n",
              "4                                      ola viajante  \n",
              "..                                              ...  \n",
              "314                   culinaria tipica estado bahia  \n",
              "315                fazer regiao lencois maranhenses  \n",
              "316  quais sao atracoes naturais imperdiveis brasil  \n",
              "317                       transporte cidades brasil  \n",
              "318       quais sao festivais musica famosos brasil  \n",
              "\n",
              "[319 rows x 3 columns]"
            ],
            "text/html": [
              "\n",
              "  <div id=\"df-1e8e070f-42e0-4524-9177-cdfa45f0ea65\" class=\"colab-df-container\">\n",
              "    <div>\n",
              "<style scoped>\n",
              "    .dataframe tbody tr th:only-of-type {\n",
              "        vertical-align: middle;\n",
              "    }\n",
              "\n",
              "    .dataframe tbody tr th {\n",
              "        vertical-align: top;\n",
              "    }\n",
              "\n",
              "    .dataframe thead th {\n",
              "        text-align: right;\n",
              "    }\n",
              "</style>\n",
              "<table border=\"1\" class=\"dataframe\">\n",
              "  <thead>\n",
              "    <tr style=\"text-align: right;\">\n",
              "      <th></th>\n",
              "      <th>Pergunta</th>\n",
              "      <th>Resposta</th>\n",
              "      <th>Pergunta_Preprocessada</th>\n",
              "    </tr>\n",
              "  </thead>\n",
              "  <tbody>\n",
              "    <tr>\n",
              "      <th>0</th>\n",
              "      <td>Bom dia!</td>\n",
              "      <td>Bom dia! Como posso ajudar você hoje?</td>\n",
              "      <td>bom dia</td>\n",
              "    </tr>\n",
              "    <tr>\n",
              "      <th>1</th>\n",
              "      <td>Boa tarde!</td>\n",
              "      <td>Boa tarde! Estou à disposição para responder à...</td>\n",
              "      <td>boa tarde</td>\n",
              "    </tr>\n",
              "    <tr>\n",
              "      <th>2</th>\n",
              "      <td>Boa noite!</td>\n",
              "      <td>Boa noite! Em que posso ser útil?</td>\n",
              "      <td>boa noite</td>\n",
              "    </tr>\n",
              "    <tr>\n",
              "      <th>3</th>\n",
              "      <td>Oi!</td>\n",
              "      <td>Olá! Como posso ser útil a você?</td>\n",
              "      <td>oi</td>\n",
              "    </tr>\n",
              "    <tr>\n",
              "      <th>4</th>\n",
              "      <td>Olá, viajante!</td>\n",
              "      <td>Olá! Estou aqui para fornecer informações sobr...</td>\n",
              "      <td>ola viajante</td>\n",
              "    </tr>\n",
              "    <tr>\n",
              "      <th>...</th>\n",
              "      <td>...</td>\n",
              "      <td>...</td>\n",
              "      <td>...</td>\n",
              "    </tr>\n",
              "    <tr>\n",
              "      <th>314</th>\n",
              "      <td>Como é a culinária típica do estado da Bahia?</td>\n",
              "      <td>A culinária da Bahia é conhecida por seus sabo...</td>\n",
              "      <td>culinaria tipica estado bahia</td>\n",
              "    </tr>\n",
              "    <tr>\n",
              "      <th>315</th>\n",
              "      <td>O que fazer na região dos Lençóis Maranhenses?</td>\n",
              "      <td>Os Lençóis Maranhenses são famosos por suas du...</td>\n",
              "      <td>fazer regiao lencois maranhenses</td>\n",
              "    </tr>\n",
              "    <tr>\n",
              "      <th>316</th>\n",
              "      <td>Quais são as atrações naturais imperdíveis no ...</td>\n",
              "      <td>Além dos Lençóis Maranhenses, visite o Monte R...</td>\n",
              "      <td>quais sao atracoes naturais imperdiveis brasil</td>\n",
              "    </tr>\n",
              "    <tr>\n",
              "      <th>317</th>\n",
              "      <td>Como é o transporte entre cidades no Brasil?</td>\n",
              "      <td>Você pode viajar entre cidades brasileiras de ...</td>\n",
              "      <td>transporte cidades brasil</td>\n",
              "    </tr>\n",
              "    <tr>\n",
              "      <th>318</th>\n",
              "      <td>Quais são os festivais de música mais famosos ...</td>\n",
              "      <td>Além do Carnaval, o Brasil tem festivais de mú...</td>\n",
              "      <td>quais sao festivais musica famosos brasil</td>\n",
              "    </tr>\n",
              "  </tbody>\n",
              "</table>\n",
              "<p>319 rows × 3 columns</p>\n",
              "</div>\n",
              "    <div class=\"colab-df-buttons\">\n",
              "\n",
              "  <div class=\"colab-df-container\">\n",
              "    <button class=\"colab-df-convert\" onclick=\"convertToInteractive('df-1e8e070f-42e0-4524-9177-cdfa45f0ea65')\"\n",
              "            title=\"Convert this dataframe to an interactive table.\"\n",
              "            style=\"display:none;\">\n",
              "\n",
              "  <svg xmlns=\"http://www.w3.org/2000/svg\" height=\"24px\" viewBox=\"0 -960 960 960\">\n",
              "    <path d=\"M120-120v-720h720v720H120Zm60-500h600v-160H180v160Zm220 220h160v-160H400v160Zm0 220h160v-160H400v160ZM180-400h160v-160H180v160Zm440 0h160v-160H620v160ZM180-180h160v-160H180v160Zm440 0h160v-160H620v160Z\"/>\n",
              "  </svg>\n",
              "    </button>\n",
              "\n",
              "  <style>\n",
              "    .colab-df-container {\n",
              "      display:flex;\n",
              "      gap: 12px;\n",
              "    }\n",
              "\n",
              "    .colab-df-convert {\n",
              "      background-color: #E8F0FE;\n",
              "      border: none;\n",
              "      border-radius: 50%;\n",
              "      cursor: pointer;\n",
              "      display: none;\n",
              "      fill: #1967D2;\n",
              "      height: 32px;\n",
              "      padding: 0 0 0 0;\n",
              "      width: 32px;\n",
              "    }\n",
              "\n",
              "    .colab-df-convert:hover {\n",
              "      background-color: #E2EBFA;\n",
              "      box-shadow: 0px 1px 2px rgba(60, 64, 67, 0.3), 0px 1px 3px 1px rgba(60, 64, 67, 0.15);\n",
              "      fill: #174EA6;\n",
              "    }\n",
              "\n",
              "    .colab-df-buttons div {\n",
              "      margin-bottom: 4px;\n",
              "    }\n",
              "\n",
              "    [theme=dark] .colab-df-convert {\n",
              "      background-color: #3B4455;\n",
              "      fill: #D2E3FC;\n",
              "    }\n",
              "\n",
              "    [theme=dark] .colab-df-convert:hover {\n",
              "      background-color: #434B5C;\n",
              "      box-shadow: 0px 1px 3px 1px rgba(0, 0, 0, 0.15);\n",
              "      filter: drop-shadow(0px 1px 2px rgba(0, 0, 0, 0.3));\n",
              "      fill: #FFFFFF;\n",
              "    }\n",
              "  </style>\n",
              "\n",
              "    <script>\n",
              "      const buttonEl =\n",
              "        document.querySelector('#df-1e8e070f-42e0-4524-9177-cdfa45f0ea65 button.colab-df-convert');\n",
              "      buttonEl.style.display =\n",
              "        google.colab.kernel.accessAllowed ? 'block' : 'none';\n",
              "\n",
              "      async function convertToInteractive(key) {\n",
              "        const element = document.querySelector('#df-1e8e070f-42e0-4524-9177-cdfa45f0ea65');\n",
              "        const dataTable =\n",
              "          await google.colab.kernel.invokeFunction('convertToInteractive',\n",
              "                                                    [key], {});\n",
              "        if (!dataTable) return;\n",
              "\n",
              "        const docLinkHtml = 'Like what you see? Visit the ' +\n",
              "          '<a target=\"_blank\" href=https://colab.research.google.com/notebooks/data_table.ipynb>data table notebook</a>'\n",
              "          + ' to learn more about interactive tables.';\n",
              "        element.innerHTML = '';\n",
              "        dataTable['output_type'] = 'display_data';\n",
              "        await google.colab.output.renderOutput(dataTable, element);\n",
              "        const docLink = document.createElement('div');\n",
              "        docLink.innerHTML = docLinkHtml;\n",
              "        element.appendChild(docLink);\n",
              "      }\n",
              "    </script>\n",
              "  </div>\n",
              "\n",
              "\n",
              "<div id=\"df-0e5fda95-3d6b-4cd1-8ac4-256f0d7bf388\">\n",
              "  <button class=\"colab-df-quickchart\" onclick=\"quickchart('df-0e5fda95-3d6b-4cd1-8ac4-256f0d7bf388')\"\n",
              "            title=\"Suggest charts\"\n",
              "            style=\"display:none;\">\n",
              "\n",
              "<svg xmlns=\"http://www.w3.org/2000/svg\" height=\"24px\"viewBox=\"0 0 24 24\"\n",
              "     width=\"24px\">\n",
              "    <g>\n",
              "        <path d=\"M19 3H5c-1.1 0-2 .9-2 2v14c0 1.1.9 2 2 2h14c1.1 0 2-.9 2-2V5c0-1.1-.9-2-2-2zM9 17H7v-7h2v7zm4 0h-2V7h2v10zm4 0h-2v-4h2v4z\"/>\n",
              "    </g>\n",
              "</svg>\n",
              "  </button>\n",
              "\n",
              "<style>\n",
              "  .colab-df-quickchart {\n",
              "      --bg-color: #E8F0FE;\n",
              "      --fill-color: #1967D2;\n",
              "      --hover-bg-color: #E2EBFA;\n",
              "      --hover-fill-color: #174EA6;\n",
              "      --disabled-fill-color: #AAA;\n",
              "      --disabled-bg-color: #DDD;\n",
              "  }\n",
              "\n",
              "  [theme=dark] .colab-df-quickchart {\n",
              "      --bg-color: #3B4455;\n",
              "      --fill-color: #D2E3FC;\n",
              "      --hover-bg-color: #434B5C;\n",
              "      --hover-fill-color: #FFFFFF;\n",
              "      --disabled-bg-color: #3B4455;\n",
              "      --disabled-fill-color: #666;\n",
              "  }\n",
              "\n",
              "  .colab-df-quickchart {\n",
              "    background-color: var(--bg-color);\n",
              "    border: none;\n",
              "    border-radius: 50%;\n",
              "    cursor: pointer;\n",
              "    display: none;\n",
              "    fill: var(--fill-color);\n",
              "    height: 32px;\n",
              "    padding: 0;\n",
              "    width: 32px;\n",
              "  }\n",
              "\n",
              "  .colab-df-quickchart:hover {\n",
              "    background-color: var(--hover-bg-color);\n",
              "    box-shadow: 0 1px 2px rgba(60, 64, 67, 0.3), 0 1px 3px 1px rgba(60, 64, 67, 0.15);\n",
              "    fill: var(--button-hover-fill-color);\n",
              "  }\n",
              "\n",
              "  .colab-df-quickchart-complete:disabled,\n",
              "  .colab-df-quickchart-complete:disabled:hover {\n",
              "    background-color: var(--disabled-bg-color);\n",
              "    fill: var(--disabled-fill-color);\n",
              "    box-shadow: none;\n",
              "  }\n",
              "\n",
              "  .colab-df-spinner {\n",
              "    border: 2px solid var(--fill-color);\n",
              "    border-color: transparent;\n",
              "    border-bottom-color: var(--fill-color);\n",
              "    animation:\n",
              "      spin 1s steps(1) infinite;\n",
              "  }\n",
              "\n",
              "  @keyframes spin {\n",
              "    0% {\n",
              "      border-color: transparent;\n",
              "      border-bottom-color: var(--fill-color);\n",
              "      border-left-color: var(--fill-color);\n",
              "    }\n",
              "    20% {\n",
              "      border-color: transparent;\n",
              "      border-left-color: var(--fill-color);\n",
              "      border-top-color: var(--fill-color);\n",
              "    }\n",
              "    30% {\n",
              "      border-color: transparent;\n",
              "      border-left-color: var(--fill-color);\n",
              "      border-top-color: var(--fill-color);\n",
              "      border-right-color: var(--fill-color);\n",
              "    }\n",
              "    40% {\n",
              "      border-color: transparent;\n",
              "      border-right-color: var(--fill-color);\n",
              "      border-top-color: var(--fill-color);\n",
              "    }\n",
              "    60% {\n",
              "      border-color: transparent;\n",
              "      border-right-color: var(--fill-color);\n",
              "    }\n",
              "    80% {\n",
              "      border-color: transparent;\n",
              "      border-right-color: var(--fill-color);\n",
              "      border-bottom-color: var(--fill-color);\n",
              "    }\n",
              "    90% {\n",
              "      border-color: transparent;\n",
              "      border-bottom-color: var(--fill-color);\n",
              "    }\n",
              "  }\n",
              "</style>\n",
              "\n",
              "  <script>\n",
              "    async function quickchart(key) {\n",
              "      const quickchartButtonEl =\n",
              "        document.querySelector('#' + key + ' button');\n",
              "      quickchartButtonEl.disabled = true;  // To prevent multiple clicks.\n",
              "      quickchartButtonEl.classList.add('colab-df-spinner');\n",
              "      try {\n",
              "        const charts = await google.colab.kernel.invokeFunction(\n",
              "            'suggestCharts', [key], {});\n",
              "      } catch (error) {\n",
              "        console.error('Error during call to suggestCharts:', error);\n",
              "      }\n",
              "      quickchartButtonEl.classList.remove('colab-df-spinner');\n",
              "      quickchartButtonEl.classList.add('colab-df-quickchart-complete');\n",
              "    }\n",
              "    (() => {\n",
              "      let quickchartButtonEl =\n",
              "        document.querySelector('#df-0e5fda95-3d6b-4cd1-8ac4-256f0d7bf388 button');\n",
              "      quickchartButtonEl.style.display =\n",
              "        google.colab.kernel.accessAllowed ? 'block' : 'none';\n",
              "    })();\n",
              "  </script>\n",
              "</div>\n",
              "\n",
              "    </div>\n",
              "  </div>\n"
            ],
            "application/vnd.google.colaboratory.intrinsic+json": {
              "type": "dataframe",
              "variable_name": "dataset",
              "summary": "{\n  \"name\": \"dataset\",\n  \"rows\": 319,\n  \"fields\": [\n    {\n      \"column\": \"Pergunta\",\n      \"properties\": {\n        \"dtype\": \"string\",\n        \"num_unique_values\": 308,\n        \"samples\": [\n          \"Voc\\u00ea tem alguma recomenda\\u00e7\\u00e3o de aplicativos \\u00fateis para viagem?\",\n          \"Que tipo de informa\\u00e7\\u00f5es voc\\u00ea pode fornecer?\",\n          \"O que fazer em Bonito, \\u00e0 noite?\"\n        ],\n        \"semantic_type\": \"\",\n        \"description\": \"\"\n      }\n    },\n    {\n      \"column\": \"Resposta\",\n      \"properties\": {\n        \"dtype\": \"string\",\n        \"num_unique_values\": 318,\n        \"samples\": [\n          \"No ver\\u00e3o em Natal, aproveite as praias de \\u00e1guas cristalinas, como Ponta Negra, e fa\\u00e7a um passeio de buggy pelas dunas de Genipabu.\",\n          \"Ouro Preto \\u00e9 famosa por sua arquitetura colonial e hist\\u00f3ria rica. Visite igrejas hist\\u00f3ricas, como a Igreja de S\\u00e3o Francisco de Assis, e explore suas ruas de paralelep\\u00edpedos.\",\n          \"A melhor \\u00e9poca para visitar o Brasil varia de acordo com a regi\\u00e3o. Geralmente, o per\\u00edodo de dezembro a mar\\u00e7o \\u00e9 \\u00f3timo para praias, enquanto a temporada seca na Amaz\\u00f4nia ocorre de junho a setembro.\"\n        ],\n        \"semantic_type\": \"\",\n        \"description\": \"\"\n      }\n    },\n    {\n      \"column\": \"Pergunta_Preprocessada\",\n      \"properties\": {\n        \"dtype\": \"string\",\n        \"num_unique_values\": 306,\n        \"samples\": [\n          \"quais sao trilhas populares chapada diamantina bahia\",\n          \"fazer foz iguacu parana alem cataratas iguacu\",\n          \"quais sao eventos culturais belem\"\n        ],\n        \"semantic_type\": \"\",\n        \"description\": \"\"\n      }\n    }\n  ]\n}"
            }
          },
          "metadata": {},
          "execution_count": 64
        }
      ]
    },
    {
      "cell_type": "markdown",
      "source": [
        "## Vetorização"
      ],
      "metadata": {
        "id": "b6oi8AAdyGRY"
      }
    },
    {
      "cell_type": "code",
      "source": [
        "from sklearn.feature_extraction.text import TfidfVectorizer\n",
        "from sklearn.metrics.pairwise import cosine_similarity"
      ],
      "metadata": {
        "id": "7qR7WNzVthdI"
      },
      "execution_count": 65,
      "outputs": []
    },
    {
      "cell_type": "code",
      "source": [
        "vectorizer = TfidfVectorizer()\n",
        "tfidf_matrix = vectorizer.fit_transform(dataset[\"Pergunta_Preprocessada\"])"
      ],
      "metadata": {
        "id": "QoPmEEIb-Af6"
      },
      "execution_count": 66,
      "outputs": []
    },
    {
      "cell_type": "markdown",
      "source": [
        "## Método para obter uma resposta a partir de uma pergunta"
      ],
      "metadata": {
        "id": "iL6OokJSzruL"
      }
    },
    {
      "cell_type": "code",
      "source": [
        "def obter_resposta(pergunta):\n",
        "    # Pré processa a sentença da pergunta\n",
        "    pergunta_processada = preprocessamento(pergunta)\n",
        "\n",
        "    # Transforma a pergunta para um vetor\n",
        "    pergunta_vector = vectorizer.transform([pergunta_processada])\n",
        "\n",
        "    # Calcula a similaridade do cosseno\n",
        "    similaridades = cosine_similarity(pergunta_vector, tfidf_matrix)\n",
        "\n",
        "    # Obtém o índice da pergunta mais similar\n",
        "    pergunta_index = similaridades.argmax()\n",
        "\n",
        "    # Devolve a resposta para o usuário\n",
        "    return dataset[\"Resposta\"].iloc[pergunta_index]"
      ],
      "metadata": {
        "id": "2CoGmXdI-bh3"
      },
      "execution_count": 67,
      "outputs": []
    },
    {
      "cell_type": "markdown",
      "source": [
        "## Testando Chatbot"
      ],
      "metadata": {
        "id": "d97ztkSaGTCL"
      }
    },
    {
      "cell_type": "code",
      "source": [
        "flags = ['Fechar', 'Sair', 'Tchau']\n",
        "end = False\n",
        "\n",
        "while not end:\n",
        "    question = input()\n",
        "    if question in flags:\n",
        "        end = True\n",
        "        print('Finalizando Chat')\n",
        "        continue\n",
        "\n",
        "    answer = obter_resposta(question)\n",
        "    print(answer)"
      ],
      "metadata": {
        "id": "h6DEUI4C-uNi",
        "colab": {
          "base_uri": "https://localhost:8080/"
        },
        "outputId": "42cc4b7d-e9d9-44c6-fd94-86fadb69d187"
      },
      "execution_count": 68,
      "outputs": [
        {
          "output_type": "stream",
          "name": "stdout",
          "text": [
            "sair\n",
            "Bom dia! Como posso ajudar você hoje?\n",
            "sair\n",
            "Bom dia! Como posso ajudar você hoje?\n",
            "Sair\n",
            "Finalizando Chat\n"
          ]
        }
      ]
    },
    {
      "cell_type": "markdown",
      "source": [
        "# Integrando com Telegram"
      ],
      "metadata": {
        "id": "OBSduVxuF_0h"
      }
    },
    {
      "cell_type": "code",
      "source": [
        "import telebot\n",
        "\n",
        "API_KEY = '7550433956:AAFAu3HWeVSh-BX3vvg_c7o5oZckpAHuZiU'\n",
        "bot = telebot.TeleBot(API_KEY)"
      ],
      "metadata": {
        "id": "SBiJOO4rGmTt"
      },
      "execution_count": 69,
      "outputs": []
    },
    {
      "cell_type": "code",
      "source": [
        "@bot.message_handler(func=lambda message: True)\n",
        "def default(message):\n",
        "    resposta = obter_resposta(message.text)\n",
        "\n",
        "    bot.reply_to(\n",
        "        message,\n",
        "        resposta\n",
        "    )"
      ],
      "metadata": {
        "id": "DdYMGDGLGLgb"
      },
      "execution_count": 70,
      "outputs": []
    },
    {
      "cell_type": "code",
      "source": [
        "bot.polling()"
      ],
      "metadata": {
        "id": "LMH7-Ya_Gb0U"
      },
      "execution_count": 71,
      "outputs": []
    }
  ]
}